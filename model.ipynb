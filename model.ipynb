{
 "cells": [
  {
   "cell_type": "markdown",
   "metadata": {},
   "source": [
    "### Read the log file and partition the data into training and validation set"
   ]
  },
  {
   "cell_type": "code",
   "execution_count": 1,
   "metadata": {},
   "outputs": [
    {
     "name": "stdout",
     "output_type": "stream",
     "text": [
      "Number of training samples: 6722\n",
      "Number of validation samples: 1681\n"
     ]
    }
   ],
   "source": [
    "import csv\n",
    "import numpy as np\n",
    "import cv2\n",
    "from sklearn.model_selection import train_test_split\n",
    "import sklearn\n",
    "\n",
    "# Reading the driving log into an array\n",
    "samples  = []\n",
    "with open(\"./training_data/driving_log.csv\") as csvfile:\n",
    "    reader = csv.reader(csvfile)\n",
    "    for line in reader:\n",
    "        samples.append(line)\n",
    "        \n",
    "# Split samples between training and validation        \n",
    "train_samples, validation_samples = train_test_split(samples, test_size=0.2)\n",
    "\n",
    "print(\"Number of training samples: {t}\".format(t = len(train_samples)) )\n",
    "print(\"Number of validation samples: {v}\".format(v=len(validation_samples)) )\n"
   ]
  },
  {
   "cell_type": "markdown",
   "metadata": {},
   "source": [
    "### Helper functions"
   ]
  },
  {
   "cell_type": "code",
   "execution_count": 2,
   "metadata": {
    "collapsed": true
   },
   "outputs": [],
   "source": [
    "'''\n",
    "For each entry in the log (batch), picture of the center, left, and right side is appended to images[]\n",
    "along with the stearing angle entry into measurements[].\n",
    "'''\n",
    "def getImages(batch):\n",
    "    location = \"./training_data/IMG/\"\n",
    "    \n",
    "    images, measurements = [],[]\n",
    "    for batch_sample in batch:\n",
    "        for j in range(3):\n",
    "            filename = batch_sample[j].split('/')[-1]   # j (1-3) is for central, left and right side images \n",
    "            current_path = location + filename\n",
    "            image = cv2.imread(current_path)\n",
    "            images.append(image)\n",
    "            if(j==0):\n",
    "                measurements.append(float(batch_sample[3]))\n",
    "            if(j==1):\n",
    "                measurements.append(float(batch_sample[3]) + 0.2)  # add\n",
    "            if(j==2):\n",
    "                measurements.append(float(batch_sample[3]) - 0.2)  # subtract \n",
    "    return images, measurements\n",
    "\n",
    "\n",
    "'''\n",
    "Augmenting mirror images to account for right side turn and increase the training data\n",
    "'''\n",
    "def augment_images(images, measurements):\n",
    "    augmented_images, augmented_measurements = [], []\n",
    "    for image, measurement in zip(images, measurements):\n",
    "        augmented_images.append(image)\n",
    "        augmented_measurements.append(measurement)\n",
    "        augmented_images.append(cv2.flip(image, 1))\n",
    "        augmented_measurements.append(measurement * (-1.0))\n",
    "    return augmented_images, augmented_measurements"
   ]
  },
  {
   "cell_type": "code",
   "execution_count": 3,
   "metadata": {
    "collapsed": true
   },
   "outputs": [],
   "source": [
    "'''\n",
    "The generator function is used to feed the samples of batch size into training model.\n",
    "This makes the process of feeding the input a lot faster.\n",
    "'''\n",
    "\n",
    "def generator(samples, batch_size):\n",
    "    num_samples = len(samples)\n",
    "    while(1):\n",
    "        samples = sklearn.utils.shuffle(samples)\n",
    "        for offset in range(0, num_samples, batch_size):\n",
    "            # Define a batch\n",
    "            batch = samples[offset: (offset+batch_size)]\n",
    "            \n",
    "            # get Images from new path\n",
    "            images, measurements = getImages(batch)\n",
    "                 \n",
    "            # augment images to accomodate training for 'right turns'\n",
    "            images, measurements = augment_images(images, measurements)\n",
    "            \n",
    "            X = np.array(images)\n",
    "            y = np.array(measurements)\n",
    "            # Shuffle the data\n",
    "            yield sklearn.utils.shuffle(X, y) \n",
    "        \n",
    " "
   ]
  },
  {
   "cell_type": "markdown",
   "metadata": {},
   "source": [
    "### CNN model"
   ]
  },
  {
   "cell_type": "code",
   "execution_count": 4,
   "metadata": {},
   "outputs": [
    {
     "name": "stderr",
     "output_type": "stream",
     "text": [
      "Using TensorFlow backend.\n"
     ]
    },
    {
     "name": "stdout",
     "output_type": "stream",
     "text": [
      "Epoch 1/5\n",
      "40332/40332 [==============================] - 109s - loss: 0.0240 - val_loss: 0.0158\n",
      "Epoch 2/5\n",
      "40332/40332 [==============================] - 92s - loss: 0.0141 - val_loss: 0.0141\n",
      "Epoch 3/5\n",
      "40332/40332 [==============================] - 92s - loss: 0.0130 - val_loss: 0.0153\n",
      "Epoch 4/5\n",
      "40332/40332 [==============================] - 93s - loss: 0.0126 - val_loss: 0.0139\n",
      "Epoch 5/5\n",
      "40332/40332 [==============================] - 93s - loss: 0.0123 - val_loss: 0.0134\n"
     ]
    }
   ],
   "source": [
    "# NVidia self driving car Model\n",
    "\n",
    "\n",
    "from keras.models import Sequential\n",
    "from keras.layers import Flatten, Dense, Lambda, Cropping2D\n",
    "from keras.layers.convolutional import Convolution2D\n",
    "\n",
    "batch_size = 128\n",
    "train_generator = generator(train_samples, batch_size)\n",
    "validation_generator = generator(validation_samples, batch_size)\n",
    "\n",
    "model = Sequential()\n",
    "model.add(Lambda(lambda x:x/255.0 - 0.5, input_shape=(160,320,3)))\n",
    "model.add(Cropping2D(cropping=((50,20), (0,0))))\n",
    "model.add(Convolution2D(24,5,5, subsample=(2,2), activation='relu'))\n",
    "model.add(Convolution2D(36,5,5, subsample=(2,2), activation='relu'))\n",
    "model.add(Convolution2D(48,5,5, subsample=(2,2), activation='relu'))\n",
    "model.add(Convolution2D(64,3,3, activation='relu'))\n",
    "model.add(Convolution2D(64,3,3, activation='relu'))\n",
    "model.add(Flatten())\n",
    "model.add(Dense(100))\n",
    "model.add(Dense(50))\n",
    "model.add(Dense(10))\n",
    "model.add(Dense(1))\n",
    "\n",
    "\n",
    "model.compile(loss='mse', optimizer = 'adam')\n",
    "\n",
    "model.fit_generator(train_generator, samples_per_epoch = len(train_samples)*6,\n",
    "                    validation_data=validation_generator, nb_val_samples=len(validation_samples)*6,\n",
    "                    nb_epoch=5, verbose=1)\n",
    "\n",
    "\n",
    "model.save(\"model.h5\")"
   ]
  }
 ],
 "metadata": {
  "kernelspec": {
   "display_name": "Python 3",
   "language": "python",
   "name": "python3"
  },
  "language_info": {
   "codemirror_mode": {
    "name": "ipython",
    "version": 3
   },
   "file_extension": ".py",
   "mimetype": "text/x-python",
   "name": "python",
   "nbconvert_exporter": "python",
   "pygments_lexer": "ipython3",
   "version": "3.5.2"
  },
  "widgets": {
   "state": {},
   "version": "1.1.2"
  }
 },
 "nbformat": 4,
 "nbformat_minor": 2
}
